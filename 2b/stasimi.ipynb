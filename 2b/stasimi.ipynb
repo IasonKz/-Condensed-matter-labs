{
  "metadata": {
    "kernelspec": {
      "name": "python",
      "display_name": "Python (Pyodide)",
      "language": "python"
    },
    "language_info": {
      "codemirror_mode": {
        "name": "python",
        "version": 3
      },
      "file_extension": ".py",
      "mimetype": "text/x-python",
      "name": "python",
      "nbconvert_exporter": "python",
      "pygments_lexer": "ipython3",
      "version": "3.8"
    }
  },
  "nbformat_minor": 4,
  "nbformat": 4,
  "cells": [
    {
      "cell_type": "code",
      "source": "import numpy as np\nimport matplotlib.pyplot as plt\n\n# Παράμετροι\nL = 0.1  # μήκος της ράβδου\na = 0.1  # πάχος της ράβδου\nnx = 30  # αριθμός χωρικών διαστημάτων στον άξονα x\nny = 30  # αριθμός χωρικών διαστημάτων στον άξονα y\ndx = L / (nx - 1)\ndy = a / (ny - 1)\n\n# Δημιουργία του πλέγματος\nx = np.linspace(0, L, nx)\ny = np.linspace(0, a, ny)\nu = np.ones((nx, ny)) * 300  # αρχική θερμοκρασία\n\n# Συνοριακές συνθήκες\nu[:, 0] = 1000  # θερμοκρασία στο y=0\nu[:, -1] = 1000  # θερμοκρασία στο y=a\nu[0, :] = 3000  # θερμοκρασία στην αρχή της ράβδου x=0\nu[-1, :] = 0  # θερμοκρασία στο τέλος της ράβδου x=L\n\n# Συντελεστής θερμικής διάχυσης (αδιάφορο στη σταθερή ροή)\nalpha = 100.0\n\n# Επίλυση με μέθοδο πεπερασμένων διαφορών για σταθερή ροή\nfor _ in range(5000):  # επαναλήψεις για σύγκλιση\n    u_new = u.copy()\n    for i in range(1, nx-1):\n        for j in range(1, ny-1):\n            u_new[i, j] = 0.5 * ((u[i+1, j] + u[i-1, j]) / dx**2 +\n                                 (u[i, j+1] + u[i, j-1]) / dy**2) / (1/dx**2 + 1/dy**2)\n    u = u_new\n\n# Οπτικοποίηση του αποτελέσματος\nplt.figure(figsize=(10, 2.5))\nX, Y = np.meshgrid(x, y)\ncp = plt.contourf(X, Y, u.T, cmap='hot')\nplt.colorbar(cp)\nplt.xlabel('x (θέση κατά μήκος της ράβδου)')\nplt.ylabel('y (πάχος της ράβδου)')\nplt.title('Θερμοκρασιακή κατανομή σε σταθερή ροή')\nplt.show()\n",
      "metadata": {
        "trusted": true
      },
      "outputs": [],
      "execution_count": null
    },
    {
      "cell_type": "code",
      "source": "",
      "metadata": {
        "trusted": true
      },
      "outputs": [],
      "execution_count": null
    }
  ]
}