{
  "metadata": {
    "kernelspec": {
      "name": "python",
      "display_name": "Python (Pyodide)",
      "language": "python"
    },
    "language_info": {
      "codemirror_mode": {
        "name": "python",
        "version": 3
      },
      "file_extension": ".py",
      "mimetype": "text/x-python",
      "name": "python",
      "nbconvert_exporter": "python",
      "pygments_lexer": "ipython3",
      "version": "3.8"
    }
  },
  "nbformat_minor": 4,
  "nbformat": 4,
  "cells": [
    {
      "cell_type": "code",
      "source": "import sympy as sp\n\n# Ορισμός των συμβόλων και των σταθερών\nx = sp.symbols('x')\na = 9.27972807\nb = 4.00221988\n\n# Ορισμός της συνάρτησης χρησιμοποιώντας την sympy για τη ρίζα\ndef sympy_function(x):\n    return (a / 2) * (((x + (b / 2)) / (sp.sqrt((x + (b / 2))**2 + b**2))) - ((x - (b / 2)) / (sp.sqrt((x - (b / 2))**2 + b**2))))\n\n# Υπολογισμός της παραγώγου της συνάρτησης\nderivative = sp.diff(sympy_function(x), x)\n\n# Αντικατάσταση του x με 5 και υπολογισμός της τιμής της παραγώγου\nsubstituted_derivative = derivative.subs(x, 5)\n\n# Πολλαπλασιασμός της τιμής με 0.1\nresult = 0.1 * substituted_derivative\n\n# Επιστροφή της απόλυτης τιμής του αποτελέσματος\nabsolute_result = sp.Abs(result)\n\n# Υπολογισμός και εκτύπωση της τελικής αποτελεσματικής τιμής\nabsolute_result.evalf()\n",
      "metadata": {
        "trusted": true
      },
      "outputs": [
        {
          "execution_count": 2,
          "output_type": "execute_result",
          "data": {
            "text/plain": "0.0452455067976634",
            "text/latex": "$\\displaystyle 0.0452455067976634$"
          },
          "metadata": {}
        }
      ],
      "execution_count": 2
    },
    {
      "cell_type": "code",
      "source": "# Υπολογισμός του αορίστου ολοκληρώματος της αρχικής συνάρτησης\nindefinite_integral = sp.integrate(sympy_function(x), x)\n\n# Αντικατάσταση του x με 5 στο αόριστο ολοκλήρωμα\nsubstituted_integral = indefinite_integral.subs(x, 5)\n\n# Πολλαπλασιασμός της τιμής με 0.1\nresult_integral = 0.1 * substituted_integral\n\n# Επιστροφή της απόλυτης τιμής του αποτελέσματος\nabsolute_result_integral = sp.Abs(result_integral)\n\n# Υπολογισμός και εκτύπωση της τελικής αποτελεσματικής τιμής\nabsolute_result_integral.evalf()\n\n",
      "metadata": {
        "trusted": true
      },
      "outputs": [
        {
          "execution_count": 3,
          "output_type": "execute_result",
          "data": {
            "text/plain": "1.42128895095439",
            "text/latex": "$\\displaystyle 1.42128895095439$"
          },
          "metadata": {}
        }
      ],
      "execution_count": 3
    },
    {
      "cell_type": "code",
      "source": "import sympy as sp\n\n# Ορισμός των συμβόλων και των σταθερών\nx, m_value, n_value = sp.symbols('x m_value n_value')\na = 9.27972807\nb = 4.00221988\n\n# Ορισμός της αρχικής συνάρτησης με χρήση της sympy για την εύρεση των συμβολικών πράξεων\ndef symbolic_function(x):\n    return (a / 2) * (((x + (b / 2)) / (sp.sqrt((x + (b / 2))**2 + b**2))) - ((x - (b / 2)) / (sp.sqrt((x - (b / 2))**2 + b**2))))\n\n# Ορισμός της νέας συνάρτησης function_M συμβολικά\ndef symbolic_function_M(x):\n    func_values = symbolic_function(x)\n    # Χρήση συνθηκών για την εφαρμογή διαφορετικών υπολογισμών ανάλογα με την τιμή της func_values\n    result = sp.Piecewise(\n        (- ((10 - func_values / m_value) / 9) * ((m_value / func_values) ** n_value), func_values != 0),\n        (sp.oo, True)  # Αντιπροσωπεύει το άπειρο για περιπτώσεις διαίρεσης με το μηδέν\n    )\n    return result\n\n# Υπολογισμός της παραγώγου της function_M\nderivative_function_M = sp.diff(symbolic_function_M(x), x)\n\n# Απλοποίηση της παράγωγου για πιο ευανάγνωστη μορφή\nsimplified_derivative = derivative_function_M.simplify()\nsimplified_derivative\n",
      "metadata": {
        "trusted": true
      },
      "outputs": [
        {
          "execution_count": 4,
          "output_type": "execute_result",
          "data": {
            "text/plain": "(-m_value*sqrt(0.25*(0.499722668910435*x - 1)**2 + 1)*sqrt(0.25*(0.499722668910435*x + 1)**2 + 1)/((1.15932261947587*x - 2.3199320175)*sqrt(0.25*(0.499722668910435*x + 1)**2 + 1) - (1.15932261947587*x + 2.3199320175)*sqrt(0.25*(0.499722668910435*x - 1)**2 + 1)))**n_value*(-0.862572663726772*n_value*((1.15932261947587*x - 2.3199320175)*sqrt(0.25*(0.499722668910435*x + 1)**2 + 1) - (1.15932261947587*x + 2.3199320175)*sqrt(0.25*(0.499722668910435*x - 1)**2 + 1))*(10*m_value*sqrt(0.25*(0.499722668910435*x - 1)**2 + 1)*sqrt(0.25*(0.499722668910435*x + 1)**2 + 1) + (1.15932261947587*x - 2.3199320175)*sqrt(0.25*(0.499722668910435*x + 1)**2 + 1) - (1.15932261947587*x + 2.3199320175)*sqrt(0.25*(0.499722668910435*x - 1)**2 + 1)) + 1.15932261947587*((x - 2.00110994)*sqrt(0.25*(0.499722668910435*x + 1)**2 + 1) - (x + 2.00110994)*sqrt(0.25*(0.499722668910435*x - 1)**2 + 1))**2)*((0.062430686455742*x - 0.124930667227609)*(x - 2.00110994)*sqrt(0.25*(0.499722668910435*x - 1)**2 + 1)*(0.25*(0.499722668910435*x + 1)**2 + 1)**2 - (0.062430686455742*x + 0.124930667227609)*(x + 2.00110994)*(0.25*(0.499722668910435*x - 1)**2 + 1)**2*sqrt(0.25*(0.499722668910435*x + 1)**2 + 1) - (0.25*(0.499722668910435*x - 1)**2 + 1)**(3/2)*(0.25*(0.499722668910435*x + 1)**2 + 1)**2 + (0.25*(0.499722668910435*x - 1)**2 + 1)**2*(0.25*(0.499722668910435*x + 1)**2 + 1)**(3/2))/(9*m_value*((x - 2.00110994)*sqrt(0.25*(0.499722668910435*x + 1)**2 + 1) - (x + 2.00110994)*sqrt(0.25*(0.499722668910435*x - 1)**2 + 1))**2*(0.25*(0.499722668910435*x - 1)**2 + 1)**2*(0.25*(0.499722668910435*x + 1)**2 + 1)**2)",
            "text/latex": "$\\displaystyle \\frac{\\left(- \\frac{m_{value} \\sqrt{0.25 \\left(0.499722668910435 x - 1\\right)^{2} + 1} \\sqrt{0.25 \\left(0.499722668910435 x + 1\\right)^{2} + 1}}{\\left(1.15932261947587 x - 2.3199320175\\right) \\sqrt{0.25 \\left(0.499722668910435 x + 1\\right)^{2} + 1} - \\left(1.15932261947587 x + 2.3199320175\\right) \\sqrt{0.25 \\left(0.499722668910435 x - 1\\right)^{2} + 1}}\\right)^{n_{value}} \\left(- 0.862572663726772 n_{value} \\left(\\left(1.15932261947587 x - 2.3199320175\\right) \\sqrt{0.25 \\left(0.499722668910435 x + 1\\right)^{2} + 1} - \\left(1.15932261947587 x + 2.3199320175\\right) \\sqrt{0.25 \\left(0.499722668910435 x - 1\\right)^{2} + 1}\\right) \\left(10 m_{value} \\sqrt{0.25 \\left(0.499722668910435 x - 1\\right)^{2} + 1} \\sqrt{0.25 \\left(0.499722668910435 x + 1\\right)^{2} + 1} + \\left(1.15932261947587 x - 2.3199320175\\right) \\sqrt{0.25 \\left(0.499722668910435 x + 1\\right)^{2} + 1} - \\left(1.15932261947587 x + 2.3199320175\\right) \\sqrt{0.25 \\left(0.499722668910435 x - 1\\right)^{2} + 1}\\right) + 1.15932261947587 \\left(\\left(x - 2.00110994\\right) \\sqrt{0.25 \\left(0.499722668910435 x + 1\\right)^{2} + 1} - \\left(x + 2.00110994\\right) \\sqrt{0.25 \\left(0.499722668910435 x - 1\\right)^{2} + 1}\\right)^{2}\\right) \\left(\\left(0.062430686455742 x - 0.124930667227609\\right) \\left(x - 2.00110994\\right) \\sqrt{0.25 \\left(0.499722668910435 x - 1\\right)^{2} + 1} \\left(0.25 \\left(0.499722668910435 x + 1\\right)^{2} + 1\\right)^{2} - \\left(0.062430686455742 x + 0.124930667227609\\right) \\left(x + 2.00110994\\right) \\left(0.25 \\left(0.499722668910435 x - 1\\right)^{2} + 1\\right)^{2} \\sqrt{0.25 \\left(0.499722668910435 x + 1\\right)^{2} + 1} - \\left(0.25 \\left(0.499722668910435 x - 1\\right)^{2} + 1\\right)^{\\frac{3}{2}} \\left(0.25 \\left(0.499722668910435 x + 1\\right)^{2} + 1\\right)^{2} + \\left(0.25 \\left(0.499722668910435 x - 1\\right)^{2} + 1\\right)^{2} \\left(0.25 \\left(0.499722668910435 x + 1\\right)^{2} + 1\\right)^{\\frac{3}{2}}\\right)}{9 m_{value} \\left(\\left(x - 2.00110994\\right) \\sqrt{0.25 \\left(0.499722668910435 x + 1\\right)^{2} + 1} - \\left(x + 2.00110994\\right) \\sqrt{0.25 \\left(0.499722668910435 x - 1\\right)^{2} + 1}\\right)^{2} \\left(0.25 \\left(0.499722668910435 x - 1\\right)^{2} + 1\\right)^{2} \\left(0.25 \\left(0.499722668910435 x + 1\\right)^{2} + 1\\right)^{2}}$"
          },
          "metadata": {}
        }
      ],
      "execution_count": 4
    },
    {
      "cell_type": "code",
      "source": "# Εφαρμογή της τιμής x = 5 στην αρχική και στην παραγόγου της νέας συνάρτησης\nvalue_at_5 = symbolic_function(5).evalf()\nderivative_value_at_5 = derivative_function_M.subs(x, 5).evalf()\n\n(value_at_5, derivative_value_at_5)\n",
      "metadata": {
        "trusted": true
      },
      "outputs": [
        {
          "execution_count": 5,
          "output_type": "execute_result",
          "data": {
            "text/plain": "(1.24586655623998,\n 0.363164951904755*n_value*(0.802654180731842*m_value)**n_value*(-1.11111111111111 + 0.138429617359997/m_value) - 0.0502727853307371*(0.802654180731842*m_value)**n_value/m_value)"
          },
          "metadata": {}
        }
      ],
      "execution_count": 5
    },
    {
      "cell_type": "code",
      "source": "\n\nimport sympy as sp\nimport numpy as np\n\n# Ορισμός συμβόλων\nx = sp.symbols('x')\n\n# Σταθερές για την αρχική συνάρτηση\na = 9.27972807\nb = 4.00221988\n\n# Σταθερές για τις παραμέτρους m και n\nm_value = 1\nn_value = 0.5\n\n# Ορισμός της αρχικής συνάρτησης με χρήση sympy\ndef symbolic_function(x):\n    return (a / 2) * (((x + (b / 2)) / (sp.sqrt((x + (b / 2))**2 + b**2))) - ((x - (b / 2)) / (sp.sqrt((x - (b / 2))**2 + b**2))))\n\n# Ορισμός της νέας συνάρτησης function_M με χρήση sympy\ndef symbolic_function_M(x):\n    func_values = symbolic_function(x)\n    # Χρήση συνθήκης για την εφαρμογή διαφορετικών υπολογισμών\n    result = sp.Piecewise(\n        (- ((10 - func_values / m_value) / 9) * ((m_value / func_values) ** n_value), func_values != 0),\n        (sp.oo, True)  # Αντιπροσωπεύει το άπειρο για περιπτώσεις διαίρεσης με μηδέν\n    )\n    return result\n\n# Υπολογισμός της παραγώγου της function_M\nderivative_function_M = sp.diff(symbolic_function_M(x), x)\n\n# Συνάρτηση για υπολογισμό και εμφάνιση των τιμών\ndef calculate_values_at_point(x_value):\n    # Υπολογισμός τιμών στο σημείο x_value\n    function_value = symbolic_function_M(x_value).evalf()\n    derivative_value = derivative_function_M.subs(x, x_value).evalf()\n    absolute_derivative_value = abs(derivative_value)\n    \n    return function_value, absolute_derivative_value\n\n# Παράδειγμα χρήσης\nx_point = 5  # Το σημείο x που ενδιαφέρει\nfunction_result, derivative_result = calculate_values_at_point(x_point)\nprint(\"Τιμή συνάρτησης στο x = 5:\", function_result)\nprint(\"Απόλυτη τιμή παραγώγου στο x = 5:\", derivative_result)\n\n",
      "metadata": {
        "trusted": true
      },
      "outputs": [
        {
          "name": "stdout",
          "text": "Τιμή συνάρτησης στο x = 5: -0.871434779930147\nΑπόλυτη τιμή παραγώγου στο x = 5: 0.203277160718975\n",
          "output_type": "stream"
        }
      ],
      "execution_count": 8
    },
    {
      "cell_type": "code",
      "source": "",
      "metadata": {
        "trusted": true
      },
      "outputs": [],
      "execution_count": null
    }
  ]
}